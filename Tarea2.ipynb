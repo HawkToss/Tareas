{
 "cells": [
  {
   "cell_type": "markdown",
   "metadata": {},
   "source": [
    "## TAREA 2 \n",
    "## BENJAMIN CORREA"
   ]
  },
  {
   "cell_type": "code",
   "execution_count": 250,
   "metadata": {},
   "outputs": [],
   "source": [
    "import pandas as pd\n",
    "\n",
    "#carga de archivos\n",
    "\n",
    "dv = pd.read_csv(\"https://raw.githubusercontent.com/MinCiencia/Datos-COVID19/master/output/producto80/vacunacion_comuna_1eraDosis.csv\")\n",
    "de = pd.read_csv(\"https://raw.githubusercontent.com/leoferres/gitiele356b/main/data/pobXedadCenso.csv\")\n",
    "dr = pd.read_csv(\"https://raw.githubusercontent.com/leoferres/gitiele356b/main/data/hdi.csv\")"
   ]
  },
  {
   "cell_type": "code",
   "execution_count": null,
   "metadata": {},
   "outputs": [],
   "source": []
  },
  {
   "cell_type": "code",
   "execution_count": 252,
   "metadata": {},
   "outputs": [
    {
     "name": "stderr",
     "output_type": "stream",
     "text": [
      "C:\\Users\\Benjamin Correa\\Anaconda3\\lib\\site-packages\\ipykernel_launcher.py:17: SettingWithCopyWarning: \n",
      "A value is trying to be set on a copy of a slice from a DataFrame.\n",
      "Try using .loc[row_indexer,col_indexer] = value instead\n",
      "\n",
      "See the caveats in the documentation: http://pandas.pydata.org/pandas-docs/stable/indexing.html#indexing-view-versus-copy\n"
     ]
    },
    {
     "data": {
      "text/html": [
       "<div>\n",
       "<style scoped>\n",
       "    .dataframe tbody tr th:only-of-type {\n",
       "        vertical-align: middle;\n",
       "    }\n",
       "\n",
       "    .dataframe tbody tr th {\n",
       "        vertical-align: top;\n",
       "    }\n",
       "\n",
       "    .dataframe thead th {\n",
       "        text-align: right;\n",
       "    }\n",
       "</style>\n",
       "<table border=\"1\" class=\"dataframe\">\n",
       "  <thead>\n",
       "    <tr style=\"text-align: right;\">\n",
       "      <th></th>\n",
       "      <th>Region</th>\n",
       "      <th>Comuna</th>\n",
       "      <th>Codigo comuna</th>\n",
       "      <th>Poblacion</th>\n",
       "      <th>Total</th>\n",
       "    </tr>\n",
       "  </thead>\n",
       "  <tbody>\n",
       "    <tr>\n",
       "      <th>88</th>\n",
       "      <td>Metropolitana</td>\n",
       "      <td>Alhue</td>\n",
       "      <td>13502.0</td>\n",
       "      <td>7405.0</td>\n",
       "      <td>5518.0</td>\n",
       "    </tr>\n",
       "    <tr>\n",
       "      <th>89</th>\n",
       "      <td>Metropolitana</td>\n",
       "      <td>Buin</td>\n",
       "      <td>13402.0</td>\n",
       "      <td>109641.0</td>\n",
       "      <td>62518.0</td>\n",
       "    </tr>\n",
       "    <tr>\n",
       "      <th>90</th>\n",
       "      <td>Metropolitana</td>\n",
       "      <td>Calera de Tango</td>\n",
       "      <td>13403.0</td>\n",
       "      <td>28525.0</td>\n",
       "      <td>19186.0</td>\n",
       "    </tr>\n",
       "    <tr>\n",
       "      <th>91</th>\n",
       "      <td>Metropolitana</td>\n",
       "      <td>Cerrillos</td>\n",
       "      <td>13102.0</td>\n",
       "      <td>88956.0</td>\n",
       "      <td>43415.0</td>\n",
       "    </tr>\n",
       "    <tr>\n",
       "      <th>92</th>\n",
       "      <td>Metropolitana</td>\n",
       "      <td>Cerro Navia</td>\n",
       "      <td>13103.0</td>\n",
       "      <td>142465.0</td>\n",
       "      <td>61194.0</td>\n",
       "    </tr>\n",
       "  </tbody>\n",
       "</table>\n",
       "</div>"
      ],
      "text/plain": [
       "           Region           Comuna  Codigo comuna  Poblacion    Total\n",
       "88  Metropolitana            Alhue        13502.0     7405.0   5518.0\n",
       "89  Metropolitana             Buin        13402.0   109641.0  62518.0\n",
       "90  Metropolitana  Calera de Tango        13403.0    28525.0  19186.0\n",
       "91  Metropolitana        Cerrillos        13102.0    88956.0  43415.0\n",
       "92  Metropolitana      Cerro Navia        13103.0   142465.0  61194.0"
      ]
     },
     "execution_count": 252,
     "metadata": {},
     "output_type": "execute_result"
    }
   ],
   "source": [
    "#Sumar la cantidad de vacunados en todas las fechas por comuna\n",
    "\n",
    "\n",
    "dv1=dv[dv[\"Region\"].str.contains(\"Metropolitana\")]\n",
    "col_list=list(dv1)\n",
    "col_list.remove('Codigo region')\n",
    "col_list.remove('Codigo comuna')\n",
    "col_list.remove('Poblacion')\n",
    "col_list.remove('Region')\n",
    "col_list.remove('Comuna')\n",
    "#col_list\n",
    "\n",
    "\n",
    "\n",
    "\n",
    "\n",
    "dv1[\"Total\"] = dv1[col_list].sum(axis=1)\n",
    "dv1\n",
    "#d=dv1[col_list]\n",
    "\n",
    "#d = d.sum(axis=1)\n",
    "#d\n",
    "#dv1['f']=dv1.iloc[:,0:].sum(axis=1)\n",
    "#dv1(\"Total\") = d\n",
    "\n",
    "\n",
    "\n",
    "dv1=dv1[['Region','Comuna','Codigo comuna','Poblacion','Total']]\n",
    "\n",
    "dv1=dv1.drop([140],axis=0)\n",
    "\n",
    "dv1.head()\n"
   ]
  },
  {
   "cell_type": "code",
   "execution_count": 253,
   "metadata": {},
   "outputs": [
    {
     "data": {
      "text/html": [
       "<div>\n",
       "<style scoped>\n",
       "    .dataframe tbody tr th:only-of-type {\n",
       "        vertical-align: middle;\n",
       "    }\n",
       "\n",
       "    .dataframe tbody tr th {\n",
       "        vertical-align: top;\n",
       "    }\n",
       "\n",
       "    .dataframe thead th {\n",
       "        text-align: right;\n",
       "    }\n",
       "</style>\n",
       "<table border=\"1\" class=\"dataframe\">\n",
       "  <thead>\n",
       "    <tr style=\"text-align: right;\">\n",
       "      <th></th>\n",
       "      <th>comuna</th>\n",
       "      <th>HDI</th>\n",
       "    </tr>\n",
       "  </thead>\n",
       "  <tbody>\n",
       "    <tr>\n",
       "      <th>0</th>\n",
       "      <td>13101</td>\n",
       "      <td>0.861222</td>\n",
       "    </tr>\n",
       "    <tr>\n",
       "      <th>1</th>\n",
       "      <td>13102</td>\n",
       "      <td>0.764616</td>\n",
       "    </tr>\n",
       "    <tr>\n",
       "      <th>2</th>\n",
       "      <td>13103</td>\n",
       "      <td>0.718874</td>\n",
       "    </tr>\n",
       "    <tr>\n",
       "      <th>3</th>\n",
       "      <td>13104</td>\n",
       "      <td>0.749584</td>\n",
       "    </tr>\n",
       "    <tr>\n",
       "      <th>4</th>\n",
       "      <td>13105</td>\n",
       "      <td>0.742015</td>\n",
       "    </tr>\n",
       "  </tbody>\n",
       "</table>\n",
       "</div>"
      ],
      "text/plain": [
       "   comuna       HDI\n",
       "0   13101  0.861222\n",
       "1   13102  0.764616\n",
       "2   13103  0.718874\n",
       "3   13104  0.749584\n",
       "4   13105  0.742015"
      ]
     },
     "execution_count": 253,
     "metadata": {},
     "output_type": "execute_result"
    }
   ],
   "source": [
    "#filtrar comuna y hdi en los datos de riqueza por comuna\n",
    "dr1=dr[['comuna','HDI']]\n",
    "\n",
    "dr1.head()\n"
   ]
  },
  {
   "cell_type": "code",
   "execution_count": 248,
   "metadata": {},
   "outputs": [
    {
     "data": {
      "text/html": [
       "<div>\n",
       "<style scoped>\n",
       "    .dataframe tbody tr th:only-of-type {\n",
       "        vertical-align: middle;\n",
       "    }\n",
       "\n",
       "    .dataframe tbody tr th {\n",
       "        vertical-align: top;\n",
       "    }\n",
       "\n",
       "    .dataframe thead th {\n",
       "        text-align: right;\n",
       "    }\n",
       "</style>\n",
       "<table border=\"1\" class=\"dataframe\">\n",
       "  <thead>\n",
       "    <tr style=\"text-align: right;\">\n",
       "      <th></th>\n",
       "      <th>Region</th>\n",
       "      <th>Comuna</th>\n",
       "      <th>Codigo comuna</th>\n",
       "      <th>Poblacion</th>\n",
       "      <th>Total</th>\n",
       "      <th>EDAD_0A5</th>\n",
       "      <th>EDAD_6A14</th>\n",
       "      <th>EDAD_15A64</th>\n",
       "      <th>EDAD_65YMAS</th>\n",
       "      <th>HDI</th>\n",
       "      <th>PorcMayorEdad</th>\n",
       "    </tr>\n",
       "  </thead>\n",
       "  <tbody>\n",
       "    <tr>\n",
       "      <th>0</th>\n",
       "      <td>Metropolitana</td>\n",
       "      <td>Alhue</td>\n",
       "      <td>13502.0</td>\n",
       "      <td>7405.0</td>\n",
       "      <td>5518.0</td>\n",
       "      <td>309</td>\n",
       "      <td>489</td>\n",
       "      <td>4472</td>\n",
       "      <td>600</td>\n",
       "      <td>0.742609</td>\n",
       "      <td>0.081026</td>\n",
       "    </tr>\n",
       "    <tr>\n",
       "      <th>1</th>\n",
       "      <td>Metropolitana</td>\n",
       "      <td>Buin</td>\n",
       "      <td>13402.0</td>\n",
       "      <td>109641.0</td>\n",
       "      <td>62518.0</td>\n",
       "      <td>7296</td>\n",
       "      <td>11651</td>\n",
       "      <td>66360</td>\n",
       "      <td>7667</td>\n",
       "      <td>0.766439</td>\n",
       "      <td>0.069928</td>\n",
       "    </tr>\n",
       "    <tr>\n",
       "      <th>2</th>\n",
       "      <td>Metropolitana</td>\n",
       "      <td>Calera de Tango</td>\n",
       "      <td>13403.0</td>\n",
       "      <td>28525.0</td>\n",
       "      <td>19186.0</td>\n",
       "      <td>1700</td>\n",
       "      <td>2991</td>\n",
       "      <td>17442</td>\n",
       "      <td>2072</td>\n",
       "      <td>0.715509</td>\n",
       "      <td>0.072638</td>\n",
       "    </tr>\n",
       "    <tr>\n",
       "      <th>3</th>\n",
       "      <td>Metropolitana</td>\n",
       "      <td>Cerrillos</td>\n",
       "      <td>13102.0</td>\n",
       "      <td>88956.0</td>\n",
       "      <td>43415.0</td>\n",
       "      <td>5907</td>\n",
       "      <td>8703</td>\n",
       "      <td>53650</td>\n",
       "      <td>9273</td>\n",
       "      <td>0.764616</td>\n",
       "      <td>0.104243</td>\n",
       "    </tr>\n",
       "    <tr>\n",
       "      <th>4</th>\n",
       "      <td>Metropolitana</td>\n",
       "      <td>Cerro Navia</td>\n",
       "      <td>13103.0</td>\n",
       "      <td>142465.0</td>\n",
       "      <td>61194.0</td>\n",
       "      <td>9719</td>\n",
       "      <td>14745</td>\n",
       "      <td>89915</td>\n",
       "      <td>16011</td>\n",
       "      <td>0.718874</td>\n",
       "      <td>0.112385</td>\n",
       "    </tr>\n",
       "  </tbody>\n",
       "</table>\n",
       "</div>"
      ],
      "text/plain": [
       "          Region           Comuna  Codigo comuna  Poblacion    Total  \\\n",
       "0  Metropolitana            Alhue        13502.0     7405.0   5518.0   \n",
       "1  Metropolitana             Buin        13402.0   109641.0  62518.0   \n",
       "2  Metropolitana  Calera de Tango        13403.0    28525.0  19186.0   \n",
       "3  Metropolitana        Cerrillos        13102.0    88956.0  43415.0   \n",
       "4  Metropolitana      Cerro Navia        13103.0   142465.0  61194.0   \n",
       "\n",
       "   EDAD_0A5  EDAD_6A14  EDAD_15A64  EDAD_65YMAS       HDI  PorcMayorEdad  \n",
       "0       309        489        4472          600  0.742609       0.081026  \n",
       "1      7296      11651       66360         7667  0.766439       0.069928  \n",
       "2      1700       2991       17442         2072  0.715509       0.072638  \n",
       "3      5907       8703       53650         9273  0.764616       0.104243  \n",
       "4      9719      14745       89915        16011  0.718874       0.112385  "
      ]
     },
     "execution_count": 248,
     "metadata": {},
     "output_type": "execute_result"
    }
   ],
   "source": [
    "#sumar los distintos grupos de edad agrupando por codigo comuna y \n",
    "#combinar los distintos datos de los archivos por codigo de comuna \n",
    "\n",
    "de = pd.read_csv(\"https://raw.githubusercontent.com/leoferres/gitiele356b/main/data/pobXedadCenso.csv\")\n",
    "de['EDAD_0A5'] = de['EDAD_0A5'].replace('*', 0)\n",
    "de['EDAD_6A14'] = de['EDAD_6A14'].replace('*', 0)\n",
    "de['EDAD_15A64'] = de['EDAD_15A64'].replace('*', 0)\n",
    "de['EDAD_65YMAS'] = de['EDAD_65YMAS'].replace('*', 0)\n",
    "\n",
    "\n",
    "de['EDAD_0A5'] = pd.to_numeric(de['EDAD_0A5'])\n",
    "de['EDAD_6A14'] = pd.to_numeric(de['EDAD_6A14'])\n",
    "de['EDAD_15A64'] = pd.to_numeric(de['EDAD_15A64'])\n",
    "de['EDAD_65YMAS'] = pd.to_numeric(de['EDAD_65YMAS'])\n",
    "de.rename(columns={'COMUNA': 'Codigo comuna'}, inplace = True)\n",
    "de = de.groupby('Codigo comuna').sum()\n",
    "\n",
    "daa = pd.merge(dv1,de,how='inner', on='Codigo comuna')\n",
    "\n",
    "dr1.rename(columns={'comuna': 'Codigo comuna'}, inplace = True)\n",
    "\n",
    "daa1 = pd.merge(daa,dr1,how='inner', on='Codigo comuna')\n",
    "\n",
    "\n",
    "\n",
    "daa1[\"PorcMayorEdad\"]=daa1[\"EDAD_65YMAS\"]/daa1[\"Poblacion\"]\n",
    "\n",
    "daa1.head()\n",
    "\n"
   ]
  },
  {
   "cell_type": "code",
   "execution_count": 240,
   "metadata": {},
   "outputs": [
    {
     "data": {
      "image/png": "[encoded data removed]",
      "text/plain": [
       "<Figure size 432x288 with 1 Axes>"
      ]
     },
     "metadata": {
      "needs_background": "light"
     },
     "output_type": "display_data"
    }
   ],
   "source": [
    "#Graficar la relacion entre el % de vacunados y el nivel de riqueza (HDI)\n",
    "import matplotlib.pyplot as plt\n",
    "\n",
    "fig, ax = plt.subplots(1, 1, figsize=(6,4))\n",
    "ax.scatter(x=daa1.Total/daa1.Poblacion, y=daa1.HDI, alpha= 0.8)\n",
    "ax.set_xlabel('Vacunados')\n",
    "ax.set_ylabel('HDI');\n",
    "\n",
    "\n",
    "\n"
   ]
  },
  {
   "cell_type": "code",
   "execution_count": 242,
   "metadata": {},
   "outputs": [
    {
     "data": {
      "image/png": "[encoded data removed]",
      "text/plain": [
       "<Figure size 432x288 with 1 Axes>"
      ]
     },
     "metadata": {
      "needs_background": "light"
     },
     "output_type": "display_data"
    }
   ],
   "source": [
    "#Graficar la relacion entre el % de vacunados y el % de mayor edad\n",
    "fig, ax = plt.subplots(1, 1, figsize=(6,4))\n",
    "ax.scatter(x=daa1.Total/daa1.Poblacion, y=daa1.PorcMayorEdad, alpha= 0.8)\n",
    "ax.set_xlabel('% Vacunados')\n",
    "ax.set_ylabel('% MayorEdad');"
   ]
  },
  {
   "cell_type": "raw",
   "metadata": {},
   "source": [
    "No esta mal en decir que hay una correlación entre el número de vacunados y las comunas más ricas, pero viendo los graficos\n",
    "se puede ver que esto depende en mayor medida a que la gente de mayor edad son los que tienen mas dinero, y la gente\n",
    "de mayor edad son mas propensos a vacunarse por lo perjudicial que seria a su salud, asi que tendera a haber una fuerte correlacion entre las comunas con mayor % de edad y mayor HDI, como se puede ver en los graficos"
   ]
  }
 ],
 "metadata": {
  "kernelspec": {
   "display_name": "Python 3",
   "language": "python",
   "name": "python3"
  },
  "language_info": {
   "codemirror_mode": {
    "name": "ipython",
    "version": 3
   },
   "file_extension": ".py",
   "mimetype": "text/x-python",
   "name": "python",
   "nbconvert_exporter": "python",
   "pygments_lexer": "ipython3",
   "version": "3.7.3"
  }
 },
 "nbformat": 4,
 "nbformat_minor": 2
}
